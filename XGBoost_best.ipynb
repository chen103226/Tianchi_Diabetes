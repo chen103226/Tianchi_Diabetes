{
 "cells": [
  {
   "cell_type": "markdown",
   "metadata": {},
   "source": [
    "# 天池精准医疗大赛"
   ]
  },
  {
   "cell_type": "code",
   "execution_count": 4,
   "metadata": {},
   "outputs": [],
   "source": [
    "import numpy as np\n",
    "import pandas as pd\n",
    "from sklearn.linear_model import LinearRegression\n",
    "from sklearn import preprocessing\n",
    "import xgboost as xgb\n"
   ]
  },
  {
   "cell_type": "markdown",
   "metadata": {},
   "source": [
    "## 导入数据"
   ]
  },
  {
   "cell_type": "code",
   "execution_count": 5,
   "metadata": {
    "collapsed": true
   },
   "outputs": [],
   "source": [
    "train_df = pd.read_csv('data/d_train_20180102.csv', encoding='gbk')\n",
    "#train_df = pd.read_excel('data/d_train_20180120.xlsx', encoding='gbk')\n",
    "testA_df = pd.read_csv('data/d_test_A_20180102.csv', encoding='gbk')\n",
    "testB_df = pd.read_csv('data/d_test_B_20180128.csv', encoding ='gbk')"
   ]
  },
  {
   "cell_type": "code",
   "execution_count": 6,
   "metadata": {
    "collapsed": true
   },
   "outputs": [],
   "source": [
    "#训练集和测试集链接\n",
    "frames = [train_df, testA_df, testB_df]\n",
    "data_df = pd.concat(frames, join='outer',ignore_index = True)\n",
    "data_df = data_df.reindex_axis(train_df.columns, axis=1)"
   ]
  },
  {
   "cell_type": "markdown",
   "metadata": {},
   "source": [
    "**增加7个特征**"
   ]
  },
  {
   "cell_type": "code",
   "execution_count": 8,
   "metadata": {
    "collapsed": true
   },
   "outputs": [],
   "source": [
    "data_df['AST/ALT'] = data_df['*天门冬氨酸氨基转换酶']/data_df['*丙氨酸氨基转换酶']\n",
    "data_df['GFR'] = ((data_df['性别']=='男' )+ 0.742*(data_df['性别'] == '女')) * (186 * data_df['肌酐']/88.41 - 1.154*data_df['年龄']-0.203)\n",
    "data_df['中性粒细胞绝对值'] = data_df['白细胞计数'] * data_df['中性粒细胞%']/100\n",
    "data_df['淋巴细胞绝对值'] = data_df['白细胞计数'] * data_df['淋巴细胞%']/100\n",
    "data_df['单核细胞绝对值'] = data_df['白细胞计数'] * data_df['单核细胞%']/100\n",
    "data_df['嗜酸细胞绝对值'] = data_df['白细胞计数'] * data_df['嗜酸细胞%']/100\n",
    "data_df['嗜碱细胞绝对值'] = data_df['白细胞计数'] * data_df['嗜碱细胞%']/100"
   ]
  },
  {
   "cell_type": "markdown",
   "metadata": {},
   "source": [
    "**删除id, 体检日期两个特征，并且对性别特征one-hot编码**"
   ]
  },
  {
   "cell_type": "code",
   "execution_count": 9,
   "metadata": {
    "collapsed": true
   },
   "outputs": [],
   "source": [
    "\n",
    "onehot = pd.get_dummies(data_df['性别'])\n",
    "data_df = onehot.iloc[:,1:3].join(data_df) #由于id=580这一条数据的性别为：??,所以这里将其性别的one-hot编码为00\n",
    "#data_df['性别'] = data_df['性别'].map({'男':1, '女': 0})\n",
    "data_df.drop(['id','性别','体检日期'],axis=1,inplace=True)\n",
    "data_df.drop([ '乙肝表面抗原', '乙肝表面抗体', '乙肝e抗原', '乙肝e抗体', '乙肝核心抗体'],axis=1,inplace=True)"
   ]
  },
  {
   "cell_type": "code",
   "execution_count": 10,
   "metadata": {
    "collapsed": true
   },
   "outputs": [],
   "source": [
    "#由于删除了血糖为38的一条样本，剩余5641条\n",
    "train_size = 5641  #原始数据：5642"
   ]
  },
  {
   "cell_type": "code",
   "execution_count": 11,
   "metadata": {
    "collapsed": true
   },
   "outputs": [],
   "source": [
    "#重新排列列名，使得最后一列为血糖特征\n",
    "columns = ['女', '男', '年龄', '*天门冬氨酸氨基转换酶', '*丙氨酸氨基转换酶', '*碱性磷酸酶', '*r-谷氨酰基转换酶',\n",
    "       '*总蛋白', '白蛋白', '*球蛋白', '白球比例', '甘油三酯', '总胆固醇', '高密度脂蛋白胆固醇', '低密度脂蛋白胆固醇',\n",
    "       '尿素', '肌酐', '尿酸', '白细胞计数', '红细胞计数', '血红蛋白', '红细胞压积', '红细胞平均体积',\n",
    "       '红细胞平均血红蛋白量', '红细胞平均血红蛋白浓度', '红细胞体积分布宽度', '血小板计数', '血小板平均体积',\n",
    "       '血小板体积分布宽度', '血小板比积', '中性粒细胞%', '淋巴细胞%', '单核细胞%', '嗜酸细胞%', '嗜碱细胞%',\n",
    "     'AST/ALT', 'GFR', '中性粒细胞绝对值', '淋巴细胞绝对值', '单核细胞绝对值', '嗜酸细胞绝对值',\n",
    "       '嗜碱细胞绝对值','血糖']\n",
    "data_df = data_df.reindex_axis(columns, axis=1)"
   ]
  },
  {
   "cell_type": "code",
   "execution_count": 12,
   "metadata": {
    "collapsed": true
   },
   "outputs": [],
   "source": [
    "feat_generate = pd.DataFrame()\n",
    "feat_generate['22*25'] = data_df.iloc[:,22] * data_df.iloc[:,25]\n",
    "feat_generate['17*35'] = data_df.iloc[:,17] * data_df.iloc[:,35]\n",
    "feat_generate['2+30'] = data_df.iloc[:, 2] + data_df.iloc[:, 30]\n",
    "feat_generate['13*17'] = data_df.iloc[:,13] * data_df.iloc[:,17]\n",
    "feat_generate['2*19'] = data_df.iloc[:,2] * data_df.iloc[:,19]\n",
    "\n",
    "feat_generate['22divide24'] = data_df.iloc[:,22] / data_df.iloc[:,24]\n",
    "feat_generate['2divide35'] = data_df.iloc[:,2] / data_df.iloc[:,35]\n",
    "feat_generate['15divide17'] = data_df.iloc[:,15] / data_df.iloc[:,17]\n",
    "feat_generate['2divide25'] = data_df.iloc[:,2] / data_df.iloc[:,25]\n",
    "feat_generate['19divide25'] = data_df.iloc[:,19] / data_df.iloc[:,25]\n"
   ]
  },
  {
   "cell_type": "code",
   "execution_count": 13,
   "metadata": {
    "collapsed": true
   },
   "outputs": [],
   "source": [
    "feat_generate[data_df.columns] = data_df \n",
    "data_df = feat_generate"
   ]
  },
  {
   "cell_type": "code",
   "execution_count": 14,
   "metadata": {
    "collapsed": true,
    "scrolled": true
   },
   "outputs": [],
   "source": [
    "feat = ['2*19','甘油三酯','*天门冬氨酸氨基转换酶','*r-谷氨酰基转换酶','22*25', '2divide35','15divide17', '2+30',\\\n",
    "           '总胆固醇', '22divide24', '2divide25', '*碱性磷酸酶', '13*17', '高密度脂蛋白胆固醇', '17*35', 'AST/ALT',\\\n",
    "           '嗜碱细胞绝对值', '尿酸', '单核细胞绝对值', '嗜酸细胞绝对值', '*总蛋白', '血小板体积分布宽度', '血红蛋白',\\\n",
    "           'GFR', '红细胞压积', '白球比例', '血小板平均体积','中性粒细胞绝对值','低密度脂蛋白胆固醇', '红细胞平均血红蛋白浓度',\\\n",
    "          '*丙氨酸氨基转换酶', '中性粒细胞%', '19divide25', '白细胞计数', '*球蛋白', '尿素', '血小板比积', '肌酐', '血小板计数',\\\n",
    "          '淋巴细胞绝对值', '白蛋白', '淋巴细胞%', '单核细胞%', '红细胞平均体积', '红细胞计数', '嗜酸细胞%', '红细胞体积分布宽度', \\\n",
    "          '年龄', '红细胞平均血红蛋白量', '女', '嗜碱细胞%', '男']\n"
   ]
  },
  {
   "cell_type": "code",
   "execution_count": 15,
   "metadata": {},
   "outputs": [
    {
     "name": "stderr",
     "output_type": "stream",
     "text": [
      "C:\\Program Files\\setup\\Anaconda\\lib\\site-packages\\ipykernel_launcher.py:2: SettingWithCopyWarning: \n",
      "A value is trying to be set on a copy of a slice from a DataFrame.\n",
      "Try using .loc[row_indexer,col_indexer] = value instead\n",
      "\n",
      "See the caveats in the documentation: http://pandas.pydata.org/pandas-docs/stable/indexing.html#indexing-view-versus-copy\n",
      "  \n"
     ]
    }
   ],
   "source": [
    "data_df1 = data_df[feat[0:32]]\n",
    "data_df1['血糖'] = data_df['血糖']"
   ]
  },
  {
   "cell_type": "code",
   "execution_count": 16,
   "metadata": {},
   "outputs": [
    {
     "data": {
      "text/plain": [
       "(7641, 53)"
      ]
     },
     "execution_count": 16,
     "metadata": {},
     "output_type": "execute_result"
    }
   ],
   "source": [
    "data_df.shape"
   ]
  },
  {
   "cell_type": "code",
   "execution_count": 17,
   "metadata": {
    "collapsed": true
   },
   "outputs": [],
   "source": [
    "#train_df = data_df.iloc[0:train_size,:]\n",
    "train_df = data_df1.iloc[0:6641,:]\n",
    "testA = data_df1.iloc[5641:6641,:]\n",
    "testB = data_df1.iloc[6641:,:]"
   ]
  },
  {
   "cell_type": "code",
   "execution_count": 18,
   "metadata": {},
   "outputs": [
    {
     "name": "stdout",
     "output_type": "stream",
     "text": [
      "train: (6641, 33) \n",
      "testA： (1000, 33) \n",
      "testB: (1000, 33)\n"
     ]
    }
   ],
   "source": [
    "print('train:',train_df.shape,'\\ntestA：',testA.shape,'\\ntestB:',testB.shape)"
   ]
  },
  {
   "cell_type": "code",
   "execution_count": 19,
   "metadata": {
    "collapsed": true
   },
   "outputs": [],
   "source": [
    "#将数据分开\n",
    "#训练\n",
    "x_train = train_df.iloc[:,0:-1]\n",
    "y_train = train_df.iloc[:,-1]\n",
    "#测试\n",
    "x_test = testB.iloc[:,0:-1]"
   ]
  },
  {
   "cell_type": "markdown",
   "metadata": {},
   "source": [
    "## XGBoost模型"
   ]
  },
  {
   "cell_type": "code",
   "execution_count": 20,
   "metadata": {
    "collapsed": true
   },
   "outputs": [],
   "source": [
    "from sklearn.metrics import mean_squared_error\n",
    "def xg_eval_mae(yhat, dtrain):\n",
    "    y = dtrain.get_label()\n",
    "    return 'mae', 1/2*mean_squared_error(y, yhat)"
   ]
  },
  {
   "cell_type": "code",
   "execution_count": 21,
   "metadata": {},
   "outputs": [
    {
     "name": "stdout",
     "output_type": "stream",
     "text": [
      "x_train:  (6641, 32) \n",
      "x_test: (1000, 32)\n"
     ]
    }
   ],
   "source": [
    "#将数据转化为xgboost对应的输入数据格式\n",
    "dtrain = xgb.DMatrix(x_train, y_train)\n",
    "dtest = xgb.DMatrix(x_test)\n",
    "print('x_train: ',x_train.shape,'\\nx_test:', x_test.shape)"
   ]
  },
  {
   "cell_type": "code",
   "execution_count": 22,
   "metadata": {},
   "outputs": [
    {
     "name": "stdout",
     "output_type": "stream",
     "text": [
      "CV score: 0.852937111359\n",
      "train score: 0.600637373159\n"
     ]
    }
   ],
   "source": [
    "#xgboost 参数\n",
    "xgb_params = {\n",
    "    'seed': 0,\n",
    "    'eta': 0.02,\n",
    "    'learning_rate':0.1,\n",
    "    #'min_child_weight':3,\n",
    "    'colsample_bytree': 0.8,\n",
    "    'silent': 1,\n",
    "    'subsample': 0.6,\n",
    "    'objective': 'reg:linear',\n",
    "    'max_depth':3,     #避免过拟合，值越大，模型会学到更具体更局部的样本，一般3-5\n",
    "    'min_child_weight':3,\n",
    "    'reg_lambda':0.35,\n",
    "    'reg_alpha':10,\n",
    "    'gamma':0.2,\n",
    "}\n",
    "\n",
    "bst_cv1 = xgb.cv(xgb_params, dtrain, num_boost_round=100, nfold=5, seed=2, \n",
    "                    feval=xg_eval_mae, maximize=False)\n",
    "\n",
    "print ('CV score:', 1/2 * bst_cv1.iloc[-1,:]['test-rmse-mean']**2)\n",
    "print ('train score:', 1/2 * bst_cv1.iloc[-1,:]['train-rmse-mean']**2)"
   ]
  },
  {
   "cell_type": "code",
   "execution_count": 23,
   "metadata": {
    "scrolled": true
   },
   "outputs": [
    {
     "data": {
      "text/plain": [
       "test-mae-mean      0.853745\n",
       "test-mae-std       0.052816\n",
       "test-rmse-mean     1.306091\n",
       "test-rmse-std      0.040203\n",
       "train-mae-mean     0.600697\n",
       "train-mae-std      0.012064\n",
       "train-rmse-mean    1.096027\n",
       "train-rmse-std     0.010948\n",
       "Name: 99, dtype: float64"
      ]
     },
     "execution_count": 23,
     "metadata": {},
     "output_type": "execute_result"
    }
   ],
   "source": [
    "bst_cv1.iloc[-1,:]"
   ]
  },
  {
   "cell_type": "markdown",
   "metadata": {},
   "source": [
    "**绘制误差曲线随着迭代次数的变化趋势**"
   ]
  },
  {
   "cell_type": "code",
   "execution_count": 24,
   "metadata": {
    "scrolled": true
   },
   "outputs": [
    {
     "data": {
      "text/plain": [
       "<matplotlib.axes._subplots.AxesSubplot at 0x228c45b0908>"
      ]
     },
     "execution_count": 24,
     "metadata": {},
     "output_type": "execute_result"
    },
    {
     "data": {
      "text/plain": [
       "<matplotlib.figure.Figure at 0x228c34dfba8>"
      ]
     },
     "metadata": {},
     "output_type": "display_data"
    },
    {
     "data": {
      "image/png": "[encoded data removed]",
      "text/plain": [
       "<matplotlib.figure.Figure at 0x228c459fe80>"
      ]
     },
     "metadata": {},
     "output_type": "display_data"
    }
   ],
   "source": [
    "import  matplotlib.pyplot as plt\n",
    "%matplotlib inline\n",
    "plt.figure()\n",
    "(bst_cv1[['train-rmse-mean', 'test-rmse-mean']]**2 * 0.5).plot()"
   ]
  },
  {
   "cell_type": "markdown",
   "metadata": {},
   "source": [
    "### 对测试集预测"
   ]
  },
  {
   "cell_type": "code",
   "execution_count": 25,
   "metadata": {
    "collapsed": true
   },
   "outputs": [],
   "source": [
    "bst = xgb.train(xgb_params, dtrain, num_boost_round=100) \n",
    "y_pred = bst.predict(dtest)"
   ]
  },
  {
   "cell_type": "code",
   "execution_count": 26,
   "metadata": {
    "scrolled": true
   },
   "outputs": [
    {
     "data": {
      "text/plain": [
       "<matplotlib.figure.Figure at 0x228c4712cf8>"
      ]
     },
     "metadata": {},
     "output_type": "display_data"
    },
    {
     "data": {
      "image/png": "[encoded data removed]",
      "text/plain": [
       "<matplotlib.figure.Figure at 0x228c47051d0>"
      ]
     },
     "metadata": {},
     "output_type": "display_data"
    }
   ],
   "source": [
    "import operator\n",
    "importance = bst.get_fscore()  \n",
    "importance = sorted(importance.items(), key=operator.itemgetter(1))  \n",
    "  \n",
    "df = pd.DataFrame(importance, columns=['feature', 'fscore'])  \n",
    "df['fscore'] = df['fscore'] / df['fscore'].sum()  \n",
    "df.to_csv(\"feat_combine_importance.csv\", index=False)  \n",
    "  \n",
    "plt.figure()  \n",
    "df.plot(kind='barh', x='feature', y='fscore', legend=False, figsize=(6, 10))  \n",
    "plt.title('XGBoost Feature Importance')  \n",
    "plt.xlabel('relative importance')  \n",
    "plt.show()  "
   ]
  },
  {
   "cell_type": "code",
   "execution_count": 27,
   "metadata": {
    "collapsed": true
   },
   "outputs": [],
   "source": [
    "bst = xgb.train(xgb_params, dtrain, num_boost_round=100) \n",
    "y_pred = bst.predict(dtest)"
   ]
  },
  {
   "cell_type": "code",
   "execution_count": 28,
   "metadata": {
    "collapsed": true
   },
   "outputs": [],
   "source": [
    "s = pd.Series(y_pred) "
   ]
  },
  {
   "cell_type": "code",
   "execution_count": 30,
   "metadata": {},
   "outputs": [
    {
     "data": {
      "text/plain": [
       "count    1000.000000\n",
       "mean        5.590151\n",
       "std         0.691109\n",
       "min         4.555100\n",
       "25%         5.118604\n",
       "50%         5.417735\n",
       "75%         5.854177\n",
       "max        10.887362\n",
       "dtype: float64"
      ]
     },
     "execution_count": 30,
     "metadata": {},
     "output_type": "execute_result"
    }
   ],
   "source": [
    "s.describe()"
   ]
  },
  {
   "cell_type": "code",
   "execution_count": 32,
   "metadata": {},
   "outputs": [],
   "source": [
    "#将预测值导出到文件\n",
    "s.to_csv('result/features_select_xgb.csv',index = False)"
   ]
  },
  {
   "cell_type": "code",
   "execution_count": null,
   "metadata": {
    "collapsed": true
   },
   "outputs": [],
   "source": []
  }
 ],
 "metadata": {
  "kernelspec": {
   "display_name": "Python 3",
   "language": "python",
   "name": "python3"
  },
  "language_info": {
   "codemirror_mode": {
    "name": "ipython",
    "version": 3
   },
   "file_extension": ".py",
   "mimetype": "text/x-python",
   "name": "python",
   "nbconvert_exporter": "python",
   "pygments_lexer": "ipython3",
   "version": "3.6.1"
  }
 },
 "nbformat": 4,
 "nbformat_minor": 2
}
